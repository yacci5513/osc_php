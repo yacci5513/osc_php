{
  "nbformat": 4,
  "nbformat_minor": 0,
  "metadata": {
    "colab": {
      "provenance": [],
      "collapsed_sections": [
        "dJe3qhwrVKPu"
      ],
      "toc_visible": true
    },
    "kernelspec": {
      "name": "python3",
      "display_name": "Python 3"
    },
    "language_info": {
      "name": "python"
    }
  },
  "cells": [
    {
      "cell_type": "markdown",
      "source": [
        "#변수와 자료형"
      ],
      "metadata": {
        "id": "tdRAzZ5VLec2"
      }
    },
    {
      "cell_type": "markdown",
      "source": [
        "##변수"
      ],
      "metadata": {
        "id": "7XNz9Pv3LhHl"
      }
    },
    {
      "cell_type": "code",
      "source": [
        "a = 1\n",
        "b = \"python\"\n",
        "c = [1, 2, 3]"
      ],
      "metadata": {
        "id": "NcZaYNFVLd3f"
      },
      "execution_count": null,
      "outputs": []
    },
    {
      "cell_type": "code",
      "source": [],
      "metadata": {
        "id": "wm97SOksmKAR"
      },
      "execution_count": null,
      "outputs": []
    },
    {
      "cell_type": "markdown",
      "source": [
        "###변수 이름을 짓는 요령\n",
        "1. 카멜 기법: 첫 글자는 소문자, 이후 첫 글자는 대문자로 표기 ex) myVariable, getUserInfo\n",
        "2. 스네이크 기법: 단어와 단어 사이를 밑줄(_)로 연결 ex) my_variable, get_user_info\n",
        "3. 파스칼 기법: 첫글자 대문자 ex) MyVariable, GetUserInfo\n",
        "\n",
        "---\n",
        "\n",
        "*   함수 -> 스네이크 기법\n",
        "*   클래스 -> 파스칼 기법\n",
        "*   변수 -> 카멜 기법\n",
        "\n",
        "---"
      ],
      "metadata": {
        "id": "YUL_rjjtLygs"
      }
    },
    {
      "cell_type": "markdown",
      "source": [
        "## 자료형\n",
        "- 파이썬은 데이터의 자료형이 변수 선언시 자동으로 지정\n",
        "- 데이터 타입에 따라서 분석 기법, 시각화 기법, 코드가 달라질 수 있다.\n",
        "- 자료형은 프로그래밍에서 가장 기본\n",
        "- 자료형의 종류: 숫자형, 문자열, 리스트, 튜플, 딕셔너리, 집합, boolean"
      ],
      "metadata": {
        "id": "cUW61la3Nm-K"
      }
    },
    {
      "cell_type": "code",
      "source": [
        "한글변수 = 32\n",
        "print(한글변수)"
      ],
      "metadata": {
        "colab": {
          "base_uri": "https://localhost:8080/"
        },
        "id": "RMYmHzUiNRdj",
        "outputId": "2635dc01-6303-4367-f007-da7dca243116"
      },
      "execution_count": null,
      "outputs": [
        {
          "output_type": "stream",
          "name": "stdout",
          "text": [
            "32\n"
          ]
        }
      ]
    },
    {
      "cell_type": "code",
      "source": [
        "a=1\n",
        "type(a)"
      ],
      "metadata": {
        "colab": {
          "base_uri": "https://localhost:8080/"
        },
        "id": "NJCuqMz9NV0z",
        "outputId": "1c041cb9-70a9-4698-d7a4-7701de3a774c"
      },
      "execution_count": null,
      "outputs": [
        {
          "output_type": "execute_result",
          "data": {
            "text/plain": [
              "int"
            ]
          },
          "metadata": {},
          "execution_count": 2
        }
      ]
    },
    {
      "cell_type": "code",
      "source": [
        "b=1.1\n",
        "type(b)"
      ],
      "metadata": {
        "colab": {
          "base_uri": "https://localhost:8080/"
        },
        "id": "gzjxgN1tNWJB",
        "outputId": "9a45d0d4-45ed-496b-de8e-98aebad94eba"
      },
      "execution_count": null,
      "outputs": [
        {
          "output_type": "execute_result",
          "data": {
            "text/plain": [
              "float"
            ]
          },
          "metadata": {},
          "execution_count": 3
        }
      ]
    },
    {
      "cell_type": "code",
      "source": [
        "c='c'\n",
        "type(c)"
      ],
      "metadata": {
        "colab": {
          "base_uri": "https://localhost:8080/"
        },
        "id": "0rxAg7pxNWGN",
        "outputId": "24240eab-fdb5-4dc4-f101-6e8300ab3659"
      },
      "execution_count": null,
      "outputs": [
        {
          "output_type": "execute_result",
          "data": {
            "text/plain": [
              "str"
            ]
          },
          "metadata": {},
          "execution_count": 4
        }
      ]
    },
    {
      "cell_type": "markdown",
      "source": [
        "### 숫자형\n",
        "- 사칙연산이 가능\n",
        "  - '+' = 더하기\n",
        "  - '-' = 빼기\n",
        "  - '/' = 나누기\n",
        "  - '*' = 곱하기\n",
        "  - '%' = 나머지\n",
        "  - '//' = 몫\n",
        "  - '**' = 제곱"
      ],
      "metadata": {
        "id": "S_tPV_6kNjVH"
      }
    },
    {
      "cell_type": "code",
      "source": [
        "a= 15\n",
        "b= 3\n",
        "print(a + b)\n",
        "print(a - b)\n",
        "print(a / b)\n",
        "print(a % b)\n",
        "print(a // b)\n",
        "print(a **b)"
      ],
      "metadata": {
        "colab": {
          "base_uri": "https://localhost:8080/"
        },
        "id": "1zd9G6OQNiKE",
        "outputId": "8636abbc-f33d-4eac-af53-ef312bbe51af"
      },
      "execution_count": null,
      "outputs": [
        {
          "output_type": "stream",
          "name": "stdout",
          "text": [
            "18\n",
            "12\n",
            "5.0\n",
            "0\n",
            "5\n",
            "3375\n"
          ]
        }
      ]
    },
    {
      "cell_type": "markdown",
      "source": [
        "### 문자열\n",
        "- 큰 따옴표(\") 또는 작은따옴표(')를 이용하여 선언\n",
        "- 여러줄을 문자열로 선언하고 싶을 때에는 큰 따옴표 또는 작은 따옴표를 세개를 사용 ex) \"\"\"안녕하세요.\n",
        "            만나서 반갑습니다.\"\"\"\n",
        "- 문자열 더하기, 곱하기 연산만 가능\n",
        "- 인덱싱(indexing, slicing)이 가능"
      ],
      "metadata": {
        "id": "58K13I6ROzKe"
      }
    },
    {
      "cell_type": "code",
      "source": [
        "# 문자열 선언\n",
        "str1 = \"Hello World\"\n",
        "str2 = \"python is fun\"\n",
        "print(str1)\n",
        "print(str2)"
      ],
      "metadata": {
        "colab": {
          "base_uri": "https://localhost:8080/"
        },
        "id": "ogUkrG3iNiHF",
        "outputId": "d0f20752-1f38-45e6-be30-3cf9a03cbb0b"
      },
      "execution_count": null,
      "outputs": [
        {
          "output_type": "stream",
          "name": "stdout",
          "text": [
            "Hello World\n",
            "python is fun\n"
          ]
        }
      ]
    },
    {
      "cell_type": "code",
      "source": [
        "str3 = \"\"\"\n",
        "이건 긴 문자열\n",
        "이건 긴 문자열 입니다.\n",
        "\"\"\"\n",
        "print(str3)"
      ],
      "metadata": {
        "colab": {
          "base_uri": "https://localhost:8080/"
        },
        "id": "_udnOgLmNiEV",
        "outputId": "e5e3d838-0c42-4c82-e23c-dcd7b8790b3c"
      },
      "execution_count": null,
      "outputs": [
        {
          "output_type": "stream",
          "name": "stdout",
          "text": [
            "\n",
            "이건 긴 문자열\n",
            "이건 긴 문자열 입니다.\n",
            "\n"
          ]
        }
      ]
    },
    {
      "cell_type": "code",
      "source": [
        "str1 + ' ' + str2"
      ],
      "metadata": {
        "colab": {
          "base_uri": "https://localhost:8080/",
          "height": 35
        },
        "id": "7iqjALTONiBy",
        "outputId": "835bad65-995e-47d1-b9fe-87fd8cce03d8"
      },
      "execution_count": null,
      "outputs": [
        {
          "output_type": "execute_result",
          "data": {
            "text/plain": [
              "'Hello World python is fun'"
            ],
            "application/vnd.google.colaboratory.intrinsic+json": {
              "type": "string"
            }
          },
          "metadata": {},
          "execution_count": 10
        }
      ]
    },
    {
      "cell_type": "code",
      "source": [
        "str1 * 3"
      ],
      "metadata": {
        "colab": {
          "base_uri": "https://localhost:8080/",
          "height": 35
        },
        "id": "RZYC9iN_NhzM",
        "outputId": "09e216e8-4675-46d1-f9f0-3787f89102c4"
      },
      "execution_count": null,
      "outputs": [
        {
          "output_type": "execute_result",
          "data": {
            "text/plain": [
              "'Hello WorldHello WorldHello World'"
            ],
            "application/vnd.google.colaboratory.intrinsic+json": {
              "type": "string"
            }
          },
          "metadata": {},
          "execution_count": 11
        }
      ]
    },
    {
      "cell_type": "code",
      "source": [
        "print(str1[10]) #indexing\n",
        "print(str1[-1]) #indexing\n",
        "print(str1[6:11]) #slicing\n",
        "print(str1[6:]) #slicing\n",
        "print(str1[:6]) #slicing\n",
        "print(str1[:]) #slicing"
      ],
      "metadata": {
        "colab": {
          "base_uri": "https://localhost:8080/"
        },
        "id": "Ne5xd4F8NhwS",
        "outputId": "b4c743ca-99ba-48e3-a92b-5edf06dc4510"
      },
      "execution_count": null,
      "outputs": [
        {
          "output_type": "stream",
          "name": "stdout",
          "text": [
            "d\n",
            "d\n",
            "World\n",
            "World\n",
            "Hello \n",
            "Hello World\n"
          ]
        }
      ]
    },
    {
      "cell_type": "markdown",
      "source": [
        "#### Example 1-1.\n",
        "어떤 회원이 생년월일 입력란에 890724를 입력하였을 때, 해당 문자를 89/07/24로 출력하기"
      ],
      "metadata": {
        "id": "ihyX_hoCVHPd"
      }
    },
    {
      "cell_type": "code",
      "source": [
        "birth = '890724'\n",
        "print(birth[:2]+ '/' + birth[2:4] + '/' + birth[4:])\n"
      ],
      "metadata": {
        "colab": {
          "base_uri": "https://localhost:8080/"
        },
        "id": "TqBfQGT1TfDU",
        "outputId": "31a5128a-b29d-4abd-b80b-b44beef6b44f"
      },
      "execution_count": null,
      "outputs": [
        {
          "output_type": "stream",
          "name": "stdout",
          "text": [
            "89/07/24\n"
          ]
        }
      ]
    },
    {
      "cell_type": "markdown",
      "source": [
        "#### Example 1-2.\n",
        " 어떤 유통회사의 유통일자가 20190603으로 입력되었을 때, 해당 문자를 2019-06-03으로 출력하기"
      ],
      "metadata": {
        "id": "WCSDGcY6VI8n"
      }
    },
    {
      "cell_type": "code",
      "source": [
        "date = '20190603'\n",
        "print(date[:4]+ '-' + date[4:6] + '-' + date[6:])"
      ],
      "metadata": {
        "colab": {
          "base_uri": "https://localhost:8080/"
        },
        "id": "Vo8IjnT4TfAu",
        "outputId": "d51f0f60-670d-4a47-dac6-82847a19e74c"
      },
      "execution_count": null,
      "outputs": [
        {
          "output_type": "stream",
          "name": "stdout",
          "text": [
            "2019-06-03\n"
          ]
        }
      ]
    },
    {
      "cell_type": "markdown",
      "source": [
        "#### Example 1-3.\n",
        " 어떤 고객이 휴대전화번호를 010-1234-5678으로 입력하였을 때, 해당 문자를 01012345678으로 출력하기"
      ],
      "metadata": {
        "id": "dJe3qhwrVKPu"
      }
    },
    {
      "cell_type": "code",
      "source": [
        "number = '010-1234-5678'\n",
        "print(number[:3] + number[4:8] + number[9:])"
      ],
      "metadata": {
        "colab": {
          "base_uri": "https://localhost:8080/"
        },
        "id": "4rnZRcm_Te-D",
        "outputId": "c4e090a9-3bb2-4940-a019-95b8b91ce68f"
      },
      "execution_count": null,
      "outputs": [
        {
          "output_type": "stream",
          "name": "stdout",
          "text": [
            "01012345678\n"
          ]
        }
      ]
    },
    {
      "cell_type": "markdown",
      "source": [
        "### 리스트\n",
        "- 하나의 리스트안에 여러 데이터타입을 넣을 수 있다.\n",
        "- 데이터간 순서가 존재해서 슬라이싱, 인덱싱이 가능\n",
        "- 대괄호 사용\n",
        "- 리스트에 활용할 수 있는 내장함수 존재\n",
        "  - append() : 추가(***)\n",
        "  - insert() : 삽입\n",
        "  - remove() : 삭제\n",
        "  "
      ],
      "metadata": {
        "id": "fyfebvqPXwiL"
      }
    },
    {
      "cell_type": "code",
      "source": [
        "list1 = [1, '2', '삼', 4, 5]\n",
        "list2 = [1, 2, 3, 4, 5]\n",
        "print(list2[2:5])  #3, 4, 5\n",
        "print(list2[2])"
      ],
      "metadata": {
        "colab": {
          "base_uri": "https://localhost:8080/"
        },
        "id": "2LxvrPp5XwYv",
        "outputId": "2b843640-3a89-4fce-cfaf-93ff2a2ea744"
      },
      "execution_count": null,
      "outputs": [
        {
          "output_type": "execute_result",
          "data": {
            "text/plain": [
              "[3, 4, 5]"
            ]
          },
          "metadata": {},
          "execution_count": 30
        }
      ]
    },
    {
      "cell_type": "code",
      "source": [
        "list2.append(6)\n",
        "print(list2)"
      ],
      "metadata": {
        "colab": {
          "base_uri": "https://localhost:8080/"
        },
        "id": "UETfwFPTXwWV",
        "outputId": "a7939a0f-eb18-42dc-ce19-7ae23d703563"
      },
      "execution_count": null,
      "outputs": [
        {
          "output_type": "stream",
          "name": "stdout",
          "text": [
            "[1, 2, 3, 4, 5, 6]\n"
          ]
        }
      ]
    },
    {
      "cell_type": "code",
      "source": [
        "list3 = [1, 2, 3]\n",
        "list4 = [2, 3, 4]\n",
        "print(list3 * 3)\n",
        "print(list3 + list4)"
      ],
      "metadata": {
        "colab": {
          "base_uri": "https://localhost:8080/"
        },
        "id": "QWLl1zMNXwTS",
        "outputId": "507c1066-c20e-41b9-9e0e-8ee6d4efdf59"
      },
      "execution_count": null,
      "outputs": [
        {
          "output_type": "stream",
          "name": "stdout",
          "text": [
            "[1, 2, 3, 1, 2, 3, 1, 2, 3]\n",
            "[1, 2, 3, 2, 3, 4]\n"
          ]
        }
      ]
    },
    {
      "cell_type": "markdown",
      "source": [
        "### 튜플\n",
        "- 여러개의 데이터를 집어넣을 수 있음\n",
        "- 소괄호 사용\n",
        "- 데이터간 순서가 존재해서 인덱싱, 슬라이싱 가능\n",
        "- 변경 불가능\n",
        "- packing, unpacking이 가능"
      ],
      "metadata": {
        "id": "hbTmqVsyZPpa"
      }
    },
    {
      "cell_type": "code",
      "source": [
        "tuple1 = (1, 2, 3, 4, 5)\n",
        "print(tuple1[1])"
      ],
      "metadata": {
        "colab": {
          "base_uri": "https://localhost:8080/"
        },
        "id": "G7_x3VwWXwQk",
        "outputId": "51fae790-a71a-43f1-d01b-16671e2034f2"
      },
      "execution_count": null,
      "outputs": [
        {
          "output_type": "stream",
          "name": "stdout",
          "text": [
            "2\n"
          ]
        }
      ]
    },
    {
      "cell_type": "code",
      "source": [
        "e1, e2, e3, e4, e5 = tuple1\n",
        "print(e1)\n",
        "print(e2)\n",
        "print(e3)"
      ],
      "metadata": {
        "colab": {
          "base_uri": "https://localhost:8080/"
        },
        "id": "p10JEkj8XwNm",
        "outputId": "418e2acd-f34e-4fd3-fef2-444cee2da12d"
      },
      "execution_count": null,
      "outputs": [
        {
          "output_type": "stream",
          "name": "stdout",
          "text": [
            "1\n",
            "2\n",
            "3\n"
          ]
        }
      ]
    },
    {
      "cell_type": "markdown",
      "source": [
        "### 딕셔너리\n",
        "- Key와 Value가 pair한 형태로 선언\n",
        "- Key를 통해 Value를 얻는다.\n",
        "- Key 값 중복 불가능\n",
        "- 중괄호 사용"
      ],
      "metadata": {
        "id": "ezpZvCK9Z7OS"
      }
    },
    {
      "cell_type": "code",
      "source": [
        "dic1 = {'key1' : 100, 'key2' : 200, 'key3' : 300}\n",
        "print(dic1)"
      ],
      "metadata": {
        "colab": {
          "base_uri": "https://localhost:8080/"
        },
        "id": "mehrkYYFTe7h",
        "outputId": "9739353f-7b1f-466e-d6bf-4cd8fcf54973"
      },
      "execution_count": null,
      "outputs": [
        {
          "output_type": "stream",
          "name": "stdout",
          "text": [
            "{'key1': 100, 'key2': 200, 'key3': 300}\n"
          ]
        }
      ]
    },
    {
      "cell_type": "code",
      "source": [
        "print(dic1['key1'])"
      ],
      "metadata": {
        "colab": {
          "base_uri": "https://localhost:8080/"
        },
        "id": "ETx5RJotacKQ",
        "outputId": "0c502363-8e69-4964-b335-9d23ff8a0521"
      },
      "execution_count": null,
      "outputs": [
        {
          "output_type": "stream",
          "name": "stdout",
          "text": [
            "100\n"
          ]
        }
      ]
    },
    {
      "cell_type": "code",
      "source": [
        "print(dic1.keys())\n",
        "print(dic1.values())"
      ],
      "metadata": {
        "colab": {
          "base_uri": "https://localhost:8080/"
        },
        "id": "_9qA-xptacHo",
        "outputId": "9fa25b27-50e2-4cbd-ebcd-e6db4ff634fe"
      },
      "execution_count": null,
      "outputs": [
        {
          "output_type": "stream",
          "name": "stdout",
          "text": [
            "dict_keys(['key1', 'key2', 'key3'])\n",
            "dict_values([100, 200, 300])\n"
          ]
        }
      ]
    },
    {
      "cell_type": "markdown",
      "source": [
        "### 집합\n",
        "- 리스트와 같이 여러개의 데이터를 집어넣을 수 있으나, **중복이 불가**\n",
        "- 중괄호를 활용\n",
        "- 데이터 내 순서 x\n",
        "- 집합연산(교집합, 합집합)이 가능"
      ],
      "metadata": {
        "id": "67ChEV4Oa7ol"
      }
    },
    {
      "cell_type": "code",
      "source": [
        "set1 = {1, 2, 3}\n",
        "set2 = {2, 3, 4}\n",
        "print(set1 & set2) # 교집합\n",
        "print(set1 | set2) # 합집합\n",
        "print(set1 - set2) # 차집합\n",
        "print(set2 - set1) # 차집합"
      ],
      "metadata": {
        "colab": {
          "base_uri": "https://localhost:8080/"
        },
        "id": "QbaILxFracEw",
        "outputId": "eda2318c-9fc3-4653-80aa-7eb14dd58793"
      },
      "execution_count": null,
      "outputs": [
        {
          "output_type": "stream",
          "name": "stdout",
          "text": [
            "{2, 3}\n",
            "{1, 2, 3, 4}\n",
            "{1}\n",
            "{4}\n"
          ]
        }
      ]
    },
    {
      "cell_type": "markdown",
      "source": [
        "### Boolean\n",
        "- True, False와 같이 참과 거짓으로 나타내는 자료형\n",
        "- 값이 있으면 True, 없으면 False"
      ],
      "metadata": {
        "id": "5ghwlkAHb_aa"
      }
    },
    {
      "cell_type": "code",
      "source": [
        "if {}:\n",
        "  print('참')\n",
        "else :\n",
        "  print('거짓')"
      ],
      "metadata": {
        "colab": {
          "base_uri": "https://localhost:8080/"
        },
        "id": "pzhPbTVzacCB",
        "outputId": "5a4857e5-3d0b-488f-dba0-d65c9e977c98"
      },
      "execution_count": null,
      "outputs": [
        {
          "output_type": "stream",
          "name": "stdout",
          "text": [
            "거짓\n"
          ]
        }
      ]
    },
    {
      "cell_type": "markdown",
      "source": [
        "#### Example 1-8.\n",
        "값(x)을 입력 받아 아래의 함수 계산하기 (y 구하기)\n",
        "\n",
        "\t1) y = x² - x + 100 \t2) y = 2x +25 \t3) y =  x² + x  / x"
      ],
      "metadata": {
        "id": "wg9HxDqygN8V"
      }
    },
    {
      "cell_type": "code",
      "source": [
        "x = int(input('값을 입력하세요.'))\n",
        "y = x**2 -x + 100\n",
        "print(y)\n",
        "y = 2*x + 25\n",
        "print(y)\n",
        "y = (x**2 + x) / x\n",
        "print(y)"
      ],
      "metadata": {
        "colab": {
          "base_uri": "https://localhost:8080/"
        },
        "id": "FjvEIewsTe4i",
        "outputId": "2316039c-d824-43db-895d-78312b33a638"
      },
      "execution_count": null,
      "outputs": [
        {
          "output_type": "stream",
          "name": "stdout",
          "text": [
            "값을 입력하세요.50\n",
            "2550\n",
            "125\n",
            "51.0\n"
          ]
        }
      ]
    },
    {
      "cell_type": "markdown",
      "source": [
        "#### Example 1-13.\n",
        "금액을 입력했을 때, 상품 가격에 따른 잔돈을 반환하는 자판기 프로그램 만들기\n",
        "\n",
        "\t\t* 금액과 상품가격은 input함수로 선언\n",
        "\t\t* 잔돈은 500,100,50,10원 단위로 반환\n",
        "\t\t* 잔돈은 가장 큰 금액부터 반환\n",
        "\t\t예) 잔돈 760원 :  500원1개, 100원2개, 50원 1개, 10원 1개"
      ],
      "metadata": {
        "id": "UEFJMHMzgaDa"
      }
    },
    {
      "cell_type": "code",
      "source": [
        "inputPrice = int(input('지불금액을 입력하세요.'))\n",
        "pruductPrice = int(input('상품가격을 입력하세요.'))\n",
        "\n",
        "print('잔돈 ',(inputPrice-pruductPrice), '원')\n",
        "print('500원 ', (inputPrice-pruductPrice)//500, '개')\n",
        "print('100원 ', ((inputPrice-pruductPrice)%500)//100, '개')\n",
        "print('50원 ', ((inputPrice-pruductPrice)%100)//50, '개')\n",
        "print('10원 ', ((inputPrice-pruductPrice)%50)//10, '개')"
      ],
      "metadata": {
        "colab": {
          "base_uri": "https://localhost:8080/"
        },
        "id": "4f2lfQsDgcZT",
        "outputId": "bc59ddad-92a2-4cf0-d205-a695784c8e86"
      },
      "execution_count": null,
      "outputs": [
        {
          "output_type": "stream",
          "name": "stdout",
          "text": [
            "값을 입력하세요.10000\n",
            "값을 입력하세요.5730\n",
            "잔돈  4270 원\n",
            "500원  8 개\n",
            "100원  2 개\n",
            "50원  1 개\n",
            "10원  2 개\n"
          ]
        }
      ]
    }
  ]
}